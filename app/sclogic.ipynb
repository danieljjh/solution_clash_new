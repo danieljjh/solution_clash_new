{
 "cells": [
  {
   "cell_type": "code",
   "execution_count": 32,
   "metadata": {},
   "outputs": [],
   "source": [
    "# import numpy as np\n",
    "'''\n",
    "item_dict: MX: [deltaH+,H2O,[\"X-\",\"M+\"]]\n",
    "'''\n",
    "item_dict = {\n",
    "    \"HCl\": [1, 0, []],\n",
    "    \"NaOH\": [-1, 0, []],\n",
    "    \"Ca(OH)2\": [-2, 0, []],\n",
    "    \"CaCO3\": [-2, 0, [\"CO32-\"]],\n",
    "    \"CuSO4.5H2O\": [1, 1, [\"Cu2+\",\"Cu2+\"]],\n",
    "    \"NH3.H2O\": [-0.5, 0, [\"NH4+\",\"NH4+\"]],\n",
    "    \"H2S\": [0.5, 0, [\"HS-\",\"HS-\"]],\n",
    "    \"BaSO4\": [0,0,[]],\n",
    "    \"CuSO4\": [1,0,[\"Cu2+\",\"Cu2+\"]],\n",
    "    \"H2SO4\": [2,0,[\"SO42-\"]],\n",
    "    \"AgCl\": [0,0,[]],\n",
    "    \"NaCl\": [0,0,[]],\n",
    "    \"Na2SO3\": [-1, 0, [\"Na+\",\"SO32-\"]],\n",
    "    \"Na\": [-1, -1, [\"Na+\"]]\n",
    "}\n",
    "weak_acid_ions = [\"CO32-\",\"SO32-\",\"HS-\"]\n",
    "weak_alka = [\"CaCO3\",\"Fe(OH)2\",\"Zn\"]\n",
    "weak_alka_ions = [\"Cu2+\",\"Fe2+\"]\n",
    "# acid_gas = {\n",
    "#     \"CO32-\": 'CO2',\n",
    "#     \"SO32-\": \"SO2\",\n",
    "#     \"HS-\": \"H2S\",\n",
    "# }\n",
    "# alka_gas = {\n",
    "#     \"NH4+\": \"NH3\",\n",
    "# }\n",
    "# turn_gold = [\n",
    "#     3, 5, 7, 9, 9, 9, 9, 9, 11, 13, 13, 13, 13, 13, 13, 13, 15, 15, 15, 17\n",
    "#     ]\n",
    "\n",
    "\n",
    "def ion_add(ion, amount, curIons):\n",
    "    print(ion,amount)\n",
    "    if ion not in curIons:\n",
    "        curIons[ion] = amount\n",
    "    elif amount == 0 and curIons[ion]==0:\n",
    "        curIons.pop(ion)\n",
    "    else:\n",
    "        curIons[ion] += amount\n",
    "    for i in curIons:\n",
    "        curIons[i] = round(curIons[i],1)\n",
    "\n",
    "\n",
    "class Player():\n",
    "    def __init__(self, name, cComb, gold=0):\n",
    "        self.name = name\n",
    "        self.gold = gold\n",
    "        self.cComb = cComb\n",
    "\n",
    "\n",
    "class Beaker():\n",
    "    def __init__(self, cH, water, Ions, owner):\n",
    "        self.cH = cH\n",
    "        self.water = water\n",
    "        self.Ions = Ions\n",
    "        self.owner = owner\n",
    "        self.evalue = []\n",
    "\n",
    "    def ioni(self, item):\n",
    "        m = abs(item_dict[item][0])\n",
    "        if item in weak_alka and item_dict[item][0]+self.cH < 0:\n",
    "            for i in item_dict[item][2]:\n",
    "                ion_add(i, self.cH, self.Ions)\n",
    "                self.evalue.append(f\"电离产生了{i}离子{0.1*self.cH}mol\")\n",
    "            self.cH = 0\n",
    "        else:\n",
    "            self.cH += item_dict[item][0]\n",
    "            for i in item_dict[item][2]:\n",
    "                ion_add(i, m, self.Ions)\n",
    "                self.evalue.append(f\"电离产生了{i}离子{0.1*item_dict[item][0]}mol\")\n",
    "\n",
    "        self.checkDH()\n",
    "\n",
    "    def checkDH(self):\n",
    "        Ionlist = list(self.Ions.keys())\n",
    "        if (set(weak_acid_ions) & set(Ionlist)) and (set(weak_alka_ions) & set(Ionlist)):\n",
    "            alka = list(set(weak_acid_ions) & set(Ionlist))\n",
    "            acid = list(set(weak_alka_ions) & set(Ionlist))\n",
    "            for i in range(min(len(alka),len(acid))):\n",
    "                q = min(self.Ions[alka[i]],self.Ions[acid[i]])\n",
    "                ion_add(alka[i],-q,self.Ions)\n",
    "                ion_add(acid[i],-q,self.Ions)\n",
    "                self.evalue.append(f\"{alka[i]}与{acid[i]}产生了沉淀\")\n",
    "    # def checkGas(self):\n",
    "    #     Ionlist = list(self.Ions.keys())\n",
    "    #     if (set(acid_gas) & set(Ionlist)) and self.cH > 0:\n",
    "    #         agas = (set(acid_gas) & set(Ionlist))\n",
    "    #         for i in agas:\n",
    "    #             print(\"1\")\n",
    "                \n",
    "\n",
    "    # def check_end(self):\n",
    "    #     if abs(self.cH) >= self.water:\n",
    "    #         Gameplay.endgame(self.owner)\n",
    "\n",
    "\n",
    "# class Gameplay():\n",
    "#     def __init__(self, turn, curPlayer):\n",
    "#         self.turn = turn\n",
    "#         self.curPlayer = curPlayer\n",
    "\n",
    "#     def nxt_turn(self):\n",
    "#         self.curPlayer = 1\n",
    "#         self.turn += 1\n",
    "\n",
    "#     def nxt_player(self):\n",
    "#         self.curPlayer = 2\n",
    "\n",
    "#     def endgame(self):\n",
    "#         print(self.name, \"被打败了！\")\n"
   ]
  },
  {
   "cell_type": "code",
   "execution_count": 35,
   "metadata": {},
   "outputs": [
    {
     "name": "stdout",
     "output_type": "stream",
     "text": [
      "HS- 0.5\n",
      "HS- 0.5\n",
      "0.5 {'HS-': 1.0}\n",
      "Cu2+ 1\n",
      "Cu2+ 1\n",
      "HS- -1.0\n",
      "Cu2+ -1.0\n",
      "['电离产生了HS-离子0.05mol', '电离产生了HS-离子0.05mol', '电离产生了Cu2+离子0.1mol', '电离产生了Cu2+离子0.1mol', 'HS-与Cu2+产生了沉淀'] {'HS-': 0.0, 'Cu2+': 1.0}\n"
     ]
    }
   ],
   "source": [
    "p1comb = [\"HCl\",\"AgCl\",\"CuSO4\",\"CaCO3\",\"NaOH\",\"Ca(OH)2\",\"H2SO4\",\"NH4Cl\"]\n",
    "p1name = \"呜咕\"\n",
    "Player1 = Player(p1name,p1comb)\n",
    "p2comb = [\"HCl\",\"AgCl\",\"CuSO4\",\"CaCO3\",\"NaOH\",\"Ca(OH)2\",\"H2SO4\",\"NH4Cl\"]\n",
    "p2name = \"小猪猪\"\n",
    "Player1 = Player(p1name,p1comb)\n",
    "Player2 = Player(p2name,p2comb)\n",
    "B1 = Beaker(0,6,{},Player1)\n",
    "B2 = Beaker(0,6,{},Player2)\n",
    "\n",
    "# print(B1.cH)\n",
    "# B1.ioni(\"HCl\")\n",
    "# print(B1.cH)\n",
    "# B1.ioni(\"CaCO3\")\n",
    "# print(B1.cH,B1.Ions)\n",
    "# B1.ioni(\"CuSO4.5H2O\")\n",
    "# print(B1.cH,B1.Ions)\n",
    "B1.ioni(\"H2S\")\n",
    "print(B1.cH,B1.Ions)\n",
    "B1.ioni(\"CuSO4\")\n",
    "print(B1.evalue,B1.Ions)\n"
   ]
  },
  {
   "cell_type": "code",
   "execution_count": 10,
   "metadata": {},
   "outputs": [
    {
     "name": "stdout",
     "output_type": "stream",
     "text": [
      "[{'name': 'CO32-', 'amount': 0}, {'name': 'Cu2+', 'amount': 1}]\n"
     ]
    }
   ],
   "source": [
    "ions = []\n",
    "ion_list = list(B1.Ions.keys())\n",
    "ion_val = list(B1.Ions.values())\n",
    "for i in range(len(ion_val)):\n",
    "        ion = {\"name\": ion_list[i],\"amount\": ion_val[i]}\n",
    "        ions.append(ion)\n",
    "print(ions)"
   ]
  },
  {
   "cell_type": "code",
   "execution_count": 22,
   "metadata": {},
   "outputs": [
    {
     "name": "stdout",
     "output_type": "stream",
     "text": [
      "{'CO32-': 0, 'Cu2+': 1}\n"
     ]
    }
   ],
   "source": [
    "bIons = {}\n",
    "for i in range(len(ions)):\n",
    "    p = list(ions[i].values())\n",
    "    bIons[p[0]]=int(p[1])\n",
    "print(bIons)"
   ]
  },
  {
   "cell_type": "code",
   "execution_count": 1,
   "metadata": {},
   "outputs": [
    {
     "name": "stdout",
     "output_type": "stream",
     "text": [
      "[1, 6, 8, 2, 5, 4, 3, 7]\n"
     ]
    }
   ],
   "source": []
  },
  {
   "cell_type": "code",
   "execution_count": 23,
   "metadata": {},
   "outputs": [
    {
     "name": "stdout",
     "output_type": "stream",
     "text": [
      "[{'name': 'HCl', 'no': 1}, {'name': 'AgCl', 'no': 4}, {'name': 'CuSO4.5H2O', 'no': 8}, {'name': 'CaCO3', 'no': 6}, {'name': 'NaOH', 'no': 3}, {'name': 'Ca(OH)2', 'no': 7}, {'name': 'BaSO4', 'no': 2}, {'name': 'NaCl', 'no': 5}]\n",
      "[{'name': 'HCl', 'no': 2}, {'name': 'AgCl', 'no': 4}, {'name': 'CuSO4', 'no': 8}, {'name': 'CaCO3', 'no': 3}, {'name': 'H2S', 'no': 6}, {'name': 'Ca(OH)2', 'no': 7}, {'name': 'H2SO4', 'no': 1}, {'name': 'NH3.H2O', 'no': 5}]\n"
     ]
    }
   ],
   "source": [
    "import random\n",
    "p1comb = [\"HCl\",\"AgCl\",\"CuSO4.5H2O\",\"CaCO3\",\"NaOH\",\"Ca(OH)2\",\"BaSO4\",\"NaCl\"]\n",
    "p2comb = [\"HCl\",\"AgCl\",\"CuSO4\",\"CaCO3\",\"H2S\",\"Ca(OH)2\",\"H2SO4\",\"NH3.H2O\"]\n",
    "def form_card_seq(cardset):\n",
    "    cardseq = []\n",
    "    seq = random.sample(range(1,9),8)\n",
    "    for i in range(8):\n",
    "        item_dict = {\"name\": cardset[i],\"no\": seq[i]}\n",
    "        cardseq.append(item_dict)\n",
    "    return cardseq\n",
    "p1seq = form_card_seq(p1comb)\n",
    "p2seq = form_card_seq(p2comb)\n",
    "print(p1seq)\n",
    "print(p2seq)"
   ]
  },
  {
   "cell_type": "code",
   "execution_count": 22,
   "metadata": {},
   "outputs": [
    {
     "data": {
      "text/plain": [
       "[7, 8, 2, 4, 5, 1, 3, 6]"
      ]
     },
     "execution_count": 22,
     "metadata": {},
     "output_type": "execute_result"
    }
   ],
   "source": [
    "random.sample(range(1,9),8)"
   ]
  },
  {
   "cell_type": "code",
   "execution_count": 38,
   "metadata": {},
   "outputs": [
    {
     "data": {
      "text/plain": [
       "2.0"
      ]
     },
     "execution_count": 38,
     "metadata": {},
     "output_type": "execute_result"
    }
   ],
   "source": [
    "import math\n",
    "math.log10(100)"
   ]
  },
  {
   "cell_type": "code",
   "execution_count": null,
   "metadata": {},
   "outputs": [],
   "source": []
  }
 ],
 "metadata": {
  "interpreter": {
   "hash": "6615d1ec0cc149ab464a5e34bdb19913942cac84d34c46df3e9f6b0772dffddb"
  },
  "kernelspec": {
   "display_name": "Python 3.8.5 64-bit ('pst2': virtualenv)",
   "name": "python3"
  },
  "language_info": {
   "codemirror_mode": {
    "name": "ipython",
    "version": 3
   },
   "file_extension": ".py",
   "mimetype": "text/x-python",
   "name": "python",
   "nbconvert_exporter": "python",
   "pygments_lexer": "ipython3",
   "version": "3.6.12"
  },
  "latex_envs": {
   "LaTeX_envs_menu_present": true,
   "autoclose": false,
   "autocomplete": true,
   "bibliofile": "biblio.bib",
   "cite_by": "apalike",
   "current_citInitial": 1,
   "eqLabelWithNumbers": true,
   "eqNumInitial": 1,
   "hotkeys": {
    "equation": "Ctrl-E",
    "itemize": "Ctrl-I"
   },
   "labels_anchors": false,
   "latex_user_defs": false,
   "report_style_numbering": false,
   "user_envs_cfg": false
  },
  "toc": {
   "base_numbering": 1,
   "nav_menu": {},
   "number_sections": true,
   "sideBar": true,
   "skip_h1_title": false,
   "title_cell": "Table of Contents",
   "title_sidebar": "Contents",
   "toc_cell": false,
   "toc_position": {},
   "toc_section_display": true,
   "toc_window_display": false
  }
 },
 "nbformat": 4,
 "nbformat_minor": 4
}
