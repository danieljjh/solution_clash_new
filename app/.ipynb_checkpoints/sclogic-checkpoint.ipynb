{
 "cells": [
  {
   "cell_type": "code",
   "execution_count": 1,
   "metadata": {},
   "outputs": [],
   "source": [
    "from scipy.optimize import fsolve, root\n",
    "import numpy as np\n",
    "'''\n",
    "item_dict: MX: [deltaH+,H2O,[\"X-\",\"M+\"]]\n",
    "'''\n",
    "item_dict = {\n",
    "    \"HCl\": [1,0,[]]\n",
    "    \"NaOH\": [-1,0,[]]\n",
    "}\n",
    "\n",
    "\n",
    "def ion_add(ion, amount, curIons):\n",
    "    if ion in curIons:\n",
    "        curIons[ion] +=amount\n",
    "    else:\n",
    "        curIons[ion] = amount\n",
    "    return curIons\n",
    "\n",
    "\n",
    "class Reaction():\n",
    "    def __init__(self, pH, cur_ions, input_item):\n",
    "        self.pH = pH\n",
    "        self.item = input_item\n",
    "        self.cur_ions = cur_ions\n",
    "        self.m = item_dict[self.item][2]\n",
    "        self.rty = item_dict[self.item][0]\n",
    "        self.pka = item_dict[self.item][1]\n",
    "        self.ionized_ions = item_dict[self.item][3]\n",
    "\n",
    "    def ioni(self):\n",
    "        pass"
   ]
  },
  {
   "cell_type": "code",
   "execution_count": null,
   "metadata": {},
   "outputs": [],
   "source": [
    "Reaction"
   ]
  }
 ],
 "metadata": {
  "kernelspec": {
   "display_name": "Python 3",
   "language": "python",
   "name": "python3"
  },
  "language_info": {
   "codemirror_mode": {
    "name": "ipython",
    "version": 3
   },
   "file_extension": ".py",
   "mimetype": "text/x-python",
   "name": "python",
   "nbconvert_exporter": "python",
   "pygments_lexer": "ipython3",
   "version": "3.8.5"
  },
  "latex_envs": {
   "LaTeX_envs_menu_present": true,
   "autoclose": false,
   "autocomplete": true,
   "bibliofile": "biblio.bib",
   "cite_by": "apalike",
   "current_citInitial": 1,
   "eqLabelWithNumbers": true,
   "eqNumInitial": 1,
   "hotkeys": {
    "equation": "Ctrl-E",
    "itemize": "Ctrl-I"
   },
   "labels_anchors": false,
   "latex_user_defs": false,
   "report_style_numbering": false,
   "user_envs_cfg": false
  },
  "toc": {
   "base_numbering": 1,
   "nav_menu": {},
   "number_sections": true,
   "sideBar": true,
   "skip_h1_title": false,
   "title_cell": "Table of Contents",
   "title_sidebar": "Contents",
   "toc_cell": false,
   "toc_position": {},
   "toc_section_display": true,
   "toc_window_display": false
  }
 },
 "nbformat": 4,
 "nbformat_minor": 4
}
